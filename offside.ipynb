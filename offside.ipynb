{
 "cells": [
  {
   "cell_type": "markdown",
   "source": [
    "# Offside\n",
    "\n",
    "## Description of the Reference Domain, and Objectives\n",
    "The offside project starts from the idea of creating a recommendation system based on machine learning which, given a football player, returns a series of players as similar as possible to him based on a set of technical-tactical data. The reference domain is, obviously, the world of football, and the reference platform for data ingestion is Fbref, a consultation font that includes data relating to players, teams and championships\n",
    "\n",
    "The solution approach that the project intends to adopt is based on a rather simple notion: let's assume we have a two-dimensional Cartesian plane, where each point corresponds to a player based on a pair of technical characteristics of our choice. The players most similar to the original player will be those who have the smallest distance on the Cartesian plane. It is sufficient to raise the plane to n dimensions, one for each of the technical attributes considered, to evaluate the similarity of the players on the hyperplane"
   ],
   "metadata": {
    "collapsed": false
   },
   "id": "b89b2cad279e16a8"
  },
  {
   "cell_type": "code",
   "outputs": [
    {
     "data": {
      "text/plain": "    (Background Information, Alphabetical Rank)  \\\n0                                             1   \n1                                             2   \n2                                             3   \n3                                             4   \n4                                             5   \n..                                          ...   \n603                                         581   \n604                                         582   \n605                                         583   \n606                                         584   \n607                                         585   \n\n    (Background Information, Full Name) (Background Information, Nation)  \\\n0                      Francesco Acerbi                           it ITA   \n1                           Yacine Adli                           fr FRA   \n2                      Michel Aebischer                           ch SUI   \n3                         Lucien Agoume                           fr FRA   \n4                            Marley Aké                           fr FRA   \n..                                  ...                              ...   \n603                        Nadir Zortea                           it ITA   \n604                    Szymon Żurkowski                           pl POL   \n605                         Milan Đurić                           ba BIH   \n606                         Milan Đurić                           ba BIH   \n607                    Mateusz Łęgowski                           pl POL   \n\n    (Background Information, Position) (Background Information, Squad)  \\\n0                                   DF                           Inter   \n1                                   MF                           Milan   \n2                                   MF                         Bologna   \n3                                   MF                           Inter   \n4                                   FW                         Udinese   \n..                                 ...                             ...   \n603                                 DF                        Atalanta   \n604                                 MF                          Empoli   \n605                                 FW                   Hellas Verona   \n606                                 FW                           Monza   \n607                                 MF                     Salernitana   \n\n    (Background Information, Age) (Background Information, Year of Birth)  \\\n0                          36-018                                    1988   \n1                          23-214                                    2000   \n2                          27-053                                    1997   \n3                          22-019                                    2002   \n4                          23-054                                    2001   \n..                            ...                                     ...   \n603                        24-254                                    1999   \n604                        26-156                                    1997   \n605                        33-282                                    1990   \n606                        33-282                                    1990   \n607                        21-030                                    2003   \n\n    (Playing Time, MP) (Playing Time, Starts) (Playing Time, Min)  ...  \\\n0                   20                     18                1642  ...   \n1                   16                     12                 994  ...   \n2                   25                     17                1457  ...   \n3                    1                      0                   5  ...   \n4                    1                      0                  10  ...   \n..                 ...                    ...                 ...  ...   \n603                  5                      0                 149  ...   \n604                  6                      5                 451  ...   \n605                 20                     13                1204  ...   \n606                  5                      3                 307  ...   \n607                 22                      9                 923  ...   \n\n    (Per 90 Minutes, Ast) (Per 90 Minutes, G+A) (Per 90 Minutes, G-PK)  \\\n0                    0.05                  0.16                   0.11   \n1                    0.00                  0.09                   0.09   \n2                    0.06                  0.06                   0.00   \n3                    0.00                  0.00                   0.00   \n4                    0.00                  0.00                   0.00   \n..                    ...                   ...                    ...   \n603                  0.00                  0.60                   0.60   \n604                  0.00                  0.80                   0.80   \n605                  0.07                  0.45                   0.30   \n606                  0.29                  0.29                   0.00   \n607                  0.00                  0.00                   0.00   \n\n    (Per 90 Minutes, G+A-PK) (Per 90 Minutes, xG) (Per 90 Minutes, xAG)  \\\n0                       0.16                 0.06                  0.09   \n1                       0.09                 0.03                  0.04   \n2                       0.06                 0.03                  0.07   \n3                       0.00                 0.00                  0.00   \n4                       0.00                 0.00                  0.00   \n..                       ...                  ...                   ...   \n603                     0.60                 0.05                  0.16   \n604                     0.80                 0.14                  0.02   \n605                     0.37                 0.34                  0.09   \n606                     0.29                 0.15                  0.17   \n607                     0.00                 0.02                  0.02   \n\n    (Per 90 Minutes, xG+xAG) (Per 90 Minutes, npxG)  \\\n0                       0.15                   0.06   \n1                       0.07                   0.03   \n2                       0.10                   0.03   \n3                       0.00                   0.00   \n4                       0.00                   0.00   \n..                       ...                    ...   \n603                     0.21                   0.05   \n604                     0.16                   0.14   \n605                     0.43                   0.16   \n606                     0.33                   0.15   \n607                     0.04                   0.02   \n\n    (Per 90 Minutes, npxG+xAG) (Unnamed: 36_level_0, Matches)  \n0                         0.15                        Matches  \n1                         0.07                        Matches  \n2                         0.10                        Matches  \n3                         0.00                        Matches  \n4                         0.00                        Matches  \n..                         ...                            ...  \n603                       0.21                        Matches  \n604                       0.16                        Matches  \n605                       0.25                        Matches  \n606                       0.33                        Matches  \n607                       0.04                        Matches  \n\n[608 rows x 37 columns]",
      "text/html": "<div>\n<style scoped>\n    .dataframe tbody tr th:only-of-type {\n        vertical-align: middle;\n    }\n\n    .dataframe tbody tr th {\n        vertical-align: top;\n    }\n\n    .dataframe thead th {\n        text-align: right;\n    }\n</style>\n<table border=\"1\" class=\"dataframe\">\n  <thead>\n    <tr style=\"text-align: right;\">\n      <th></th>\n      <th>(Background Information, Alphabetical Rank)</th>\n      <th>(Background Information, Full Name)</th>\n      <th>(Background Information, Nation)</th>\n      <th>(Background Information, Position)</th>\n      <th>(Background Information, Squad)</th>\n      <th>(Background Information, Age)</th>\n      <th>(Background Information, Year of Birth)</th>\n      <th>(Playing Time, MP)</th>\n      <th>(Playing Time, Starts)</th>\n      <th>(Playing Time, Min)</th>\n      <th>...</th>\n      <th>(Per 90 Minutes, Ast)</th>\n      <th>(Per 90 Minutes, G+A)</th>\n      <th>(Per 90 Minutes, G-PK)</th>\n      <th>(Per 90 Minutes, G+A-PK)</th>\n      <th>(Per 90 Minutes, xG)</th>\n      <th>(Per 90 Minutes, xAG)</th>\n      <th>(Per 90 Minutes, xG+xAG)</th>\n      <th>(Per 90 Minutes, npxG)</th>\n      <th>(Per 90 Minutes, npxG+xAG)</th>\n      <th>(Unnamed: 36_level_0, Matches)</th>\n    </tr>\n  </thead>\n  <tbody>\n    <tr>\n      <th>0</th>\n      <td>1</td>\n      <td>Francesco Acerbi</td>\n      <td>it ITA</td>\n      <td>DF</td>\n      <td>Inter</td>\n      <td>36-018</td>\n      <td>1988</td>\n      <td>20</td>\n      <td>18</td>\n      <td>1642</td>\n      <td>...</td>\n      <td>0.05</td>\n      <td>0.16</td>\n      <td>0.11</td>\n      <td>0.16</td>\n      <td>0.06</td>\n      <td>0.09</td>\n      <td>0.15</td>\n      <td>0.06</td>\n      <td>0.15</td>\n      <td>Matches</td>\n    </tr>\n    <tr>\n      <th>1</th>\n      <td>2</td>\n      <td>Yacine Adli</td>\n      <td>fr FRA</td>\n      <td>MF</td>\n      <td>Milan</td>\n      <td>23-214</td>\n      <td>2000</td>\n      <td>16</td>\n      <td>12</td>\n      <td>994</td>\n      <td>...</td>\n      <td>0.00</td>\n      <td>0.09</td>\n      <td>0.09</td>\n      <td>0.09</td>\n      <td>0.03</td>\n      <td>0.04</td>\n      <td>0.07</td>\n      <td>0.03</td>\n      <td>0.07</td>\n      <td>Matches</td>\n    </tr>\n    <tr>\n      <th>2</th>\n      <td>3</td>\n      <td>Michel Aebischer</td>\n      <td>ch SUI</td>\n      <td>MF</td>\n      <td>Bologna</td>\n      <td>27-053</td>\n      <td>1997</td>\n      <td>25</td>\n      <td>17</td>\n      <td>1457</td>\n      <td>...</td>\n      <td>0.06</td>\n      <td>0.06</td>\n      <td>0.00</td>\n      <td>0.06</td>\n      <td>0.03</td>\n      <td>0.07</td>\n      <td>0.10</td>\n      <td>0.03</td>\n      <td>0.10</td>\n      <td>Matches</td>\n    </tr>\n    <tr>\n      <th>3</th>\n      <td>4</td>\n      <td>Lucien Agoume</td>\n      <td>fr FRA</td>\n      <td>MF</td>\n      <td>Inter</td>\n      <td>22-019</td>\n      <td>2002</td>\n      <td>1</td>\n      <td>0</td>\n      <td>5</td>\n      <td>...</td>\n      <td>0.00</td>\n      <td>0.00</td>\n      <td>0.00</td>\n      <td>0.00</td>\n      <td>0.00</td>\n      <td>0.00</td>\n      <td>0.00</td>\n      <td>0.00</td>\n      <td>0.00</td>\n      <td>Matches</td>\n    </tr>\n    <tr>\n      <th>4</th>\n      <td>5</td>\n      <td>Marley Aké</td>\n      <td>fr FRA</td>\n      <td>FW</td>\n      <td>Udinese</td>\n      <td>23-054</td>\n      <td>2001</td>\n      <td>1</td>\n      <td>0</td>\n      <td>10</td>\n      <td>...</td>\n      <td>0.00</td>\n      <td>0.00</td>\n      <td>0.00</td>\n      <td>0.00</td>\n      <td>0.00</td>\n      <td>0.00</td>\n      <td>0.00</td>\n      <td>0.00</td>\n      <td>0.00</td>\n      <td>Matches</td>\n    </tr>\n    <tr>\n      <th>...</th>\n      <td>...</td>\n      <td>...</td>\n      <td>...</td>\n      <td>...</td>\n      <td>...</td>\n      <td>...</td>\n      <td>...</td>\n      <td>...</td>\n      <td>...</td>\n      <td>...</td>\n      <td>...</td>\n      <td>...</td>\n      <td>...</td>\n      <td>...</td>\n      <td>...</td>\n      <td>...</td>\n      <td>...</td>\n      <td>...</td>\n      <td>...</td>\n      <td>...</td>\n      <td>...</td>\n    </tr>\n    <tr>\n      <th>603</th>\n      <td>581</td>\n      <td>Nadir Zortea</td>\n      <td>it ITA</td>\n      <td>DF</td>\n      <td>Atalanta</td>\n      <td>24-254</td>\n      <td>1999</td>\n      <td>5</td>\n      <td>0</td>\n      <td>149</td>\n      <td>...</td>\n      <td>0.00</td>\n      <td>0.60</td>\n      <td>0.60</td>\n      <td>0.60</td>\n      <td>0.05</td>\n      <td>0.16</td>\n      <td>0.21</td>\n      <td>0.05</td>\n      <td>0.21</td>\n      <td>Matches</td>\n    </tr>\n    <tr>\n      <th>604</th>\n      <td>582</td>\n      <td>Szymon Żurkowski</td>\n      <td>pl POL</td>\n      <td>MF</td>\n      <td>Empoli</td>\n      <td>26-156</td>\n      <td>1997</td>\n      <td>6</td>\n      <td>5</td>\n      <td>451</td>\n      <td>...</td>\n      <td>0.00</td>\n      <td>0.80</td>\n      <td>0.80</td>\n      <td>0.80</td>\n      <td>0.14</td>\n      <td>0.02</td>\n      <td>0.16</td>\n      <td>0.14</td>\n      <td>0.16</td>\n      <td>Matches</td>\n    </tr>\n    <tr>\n      <th>605</th>\n      <td>583</td>\n      <td>Milan Đurić</td>\n      <td>ba BIH</td>\n      <td>FW</td>\n      <td>Hellas Verona</td>\n      <td>33-282</td>\n      <td>1990</td>\n      <td>20</td>\n      <td>13</td>\n      <td>1204</td>\n      <td>...</td>\n      <td>0.07</td>\n      <td>0.45</td>\n      <td>0.30</td>\n      <td>0.37</td>\n      <td>0.34</td>\n      <td>0.09</td>\n      <td>0.43</td>\n      <td>0.16</td>\n      <td>0.25</td>\n      <td>Matches</td>\n    </tr>\n    <tr>\n      <th>606</th>\n      <td>584</td>\n      <td>Milan Đurić</td>\n      <td>ba BIH</td>\n      <td>FW</td>\n      <td>Monza</td>\n      <td>33-282</td>\n      <td>1990</td>\n      <td>5</td>\n      <td>3</td>\n      <td>307</td>\n      <td>...</td>\n      <td>0.29</td>\n      <td>0.29</td>\n      <td>0.00</td>\n      <td>0.29</td>\n      <td>0.15</td>\n      <td>0.17</td>\n      <td>0.33</td>\n      <td>0.15</td>\n      <td>0.33</td>\n      <td>Matches</td>\n    </tr>\n    <tr>\n      <th>607</th>\n      <td>585</td>\n      <td>Mateusz Łęgowski</td>\n      <td>pl POL</td>\n      <td>MF</td>\n      <td>Salernitana</td>\n      <td>21-030</td>\n      <td>2003</td>\n      <td>22</td>\n      <td>9</td>\n      <td>923</td>\n      <td>...</td>\n      <td>0.00</td>\n      <td>0.00</td>\n      <td>0.00</td>\n      <td>0.00</td>\n      <td>0.02</td>\n      <td>0.02</td>\n      <td>0.04</td>\n      <td>0.02</td>\n      <td>0.04</td>\n      <td>Matches</td>\n    </tr>\n  </tbody>\n</table>\n<p>608 rows × 37 columns</p>\n</div>"
     },
     "execution_count": 80,
     "metadata": {},
     "output_type": "execute_result"
    }
   ],
   "source": [
    "import requests\n",
    "import pandas as pd\n",
    "\n",
    "url= 'https://fbref.com/en/comps/11/stats/Serie-A-Stats'\n",
    "df = pd.read_html(\n",
    "    requests.get(url).text.replace('<!--','').replace('-->','')\n",
    "    ,attrs={'id':'stats_standard'}\n",
    ")[0]\n",
    "\n",
    "# Definisci i nomi delle colonne desiderati\n",
    "new_columns = [\"(Background Information, Alphabetical Rank)\", \n",
    "               \"(Background Information, Full Name)\", \n",
    "               \"(Background Information, Nation)\", \n",
    "               \"(Background Information, Position)\", \n",
    "               \"(Background Information, Squad)\", \n",
    "               \"(Background Information, Age)\", \n",
    "               \"(Background Information, Year of Birth)\"] + list(df.columns[7:])\n",
    "\n",
    "# Assegna i nuovi nomi delle colonne\n",
    "df.columns = new_columns\n",
    "\n",
    "# Ora i primi quattro indici dovrebbero essere stati rinominati\n",
    "df\n"
   ],
   "metadata": {
    "collapsed": false,
    "ExecuteTime": {
     "end_time": "2024-02-28T20:10:08.990741Z",
     "start_time": "2024-02-28T20:10:08.288413Z"
    }
   },
   "id": "db75590c3a7d7399",
   "execution_count": 80
  },
  {
   "cell_type": "code",
   "outputs": [],
   "source": [
    "4"
   ],
   "metadata": {
    "collapsed": false
   },
   "id": "ca03d07dc9b56bb4"
  }
 ],
 "metadata": {
  "kernelspec": {
   "display_name": "Python 3",
   "language": "python",
   "name": "python3"
  },
  "language_info": {
   "codemirror_mode": {
    "name": "ipython",
    "version": 2
   },
   "file_extension": ".py",
   "mimetype": "text/x-python",
   "name": "python",
   "nbconvert_exporter": "python",
   "pygments_lexer": "ipython2",
   "version": "2.7.6"
  }
 },
 "nbformat": 4,
 "nbformat_minor": 5
}
