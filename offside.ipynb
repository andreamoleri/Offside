{
 "cells": [
  {
   "cell_type": "markdown",
   "source": [
    "# Offside\n",
    "\n",
    "## Description of the Reference Domain, and Objectives\n",
    "The offside project starts from the idea of creating a recommendation system based on machine learning which, given a football player, returns a series of players as similar as possible to him based on a set of technical-tactical data. The reference domain is, obviously, the world of football, and the reference platform for data ingestion is Fbref, a consultation font that includes data relating to players, teams and championships\n",
    "\n",
    "The solution approach that the project intends to adopt is based on a rather simple notion: let's assume we have a two-dimensional Cartesian plane, where each point corresponds to a player based on a pair of technical characteristics of our choice. The players most similar to the original player will be those who have the smallest distance on the Cartesian plane. It is sufficient to raise the plane to n dimensions, one for each of the technical attributes considered, to evaluate the similarity of the players on the hyperplane"
   ],
   "metadata": {
    "collapsed": false
   },
   "id": "b89b2cad279e16a8"
  },
  {
   "cell_type": "code",
   "outputs": [],
   "source": [],
   "metadata": {
    "collapsed": false
   },
   "id": "e44c3578306dd510"
  }
 ],
 "metadata": {
  "kernelspec": {
   "display_name": "Python 3",
   "language": "python",
   "name": "python3"
  },
  "language_info": {
   "codemirror_mode": {
    "name": "ipython",
    "version": 2
   },
   "file_extension": ".py",
   "mimetype": "text/x-python",
   "name": "python",
   "nbconvert_exporter": "python",
   "pygments_lexer": "ipython2",
   "version": "2.7.6"
  }
 },
 "nbformat": 4,
 "nbformat_minor": 5
}
